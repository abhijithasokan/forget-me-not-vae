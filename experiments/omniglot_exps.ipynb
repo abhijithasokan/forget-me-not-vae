{
 "cells": [
  {
   "cell_type": "markdown",
   "id": "6476faa9",
   "metadata": {},
   "source": [
    "# Omniglot experiments"
   ]
  },
  {
   "cell_type": "code",
   "execution_count": null,
   "id": "ddeb5003",
   "metadata": {},
   "outputs": [],
   "source": [
    "import sys\n",
    "import os\n",
    "sys.path.append('../')\n",
    "\n",
    "import forget_me_not "
   ]
  },
  {
   "cell_type": "markdown",
   "id": "cb55481a",
   "metadata": {},
   "source": [
    "### Set the parameters here"
   ]
  },
  {
   "cell_type": "code",
   "execution_count": null,
   "id": "dfbebf20",
   "metadata": {},
   "outputs": [],
   "source": [
    "# Dataset parameters\n",
    "TRAIN_FRACTION = 0.9\n",
    "EVAL_FRACTION = 0.1\n",
    "\n",
    "# Model hyperparameters\n",
    "HIDDEN_DIM = 1024\n",
    "LATENT_DIM = 128\n",
    "BETA = 10.0\n",
    "LAMBDA = 10.0\n",
    "\n",
    "# Training settings\n",
    "LEARNING_RATE = 0.0002\n",
    "BATCH_SIZE = 1024\n",
    "MAX_NUM_EPOCHS = 30\n",
    "ACCELERATOR = 'cpu'\n",
    "\n",
    "# Misc\n",
    "REPORT_ROOT_DIR = None\n",
    "PBAR = True"
   ]
  },
  {
   "cell_type": "markdown",
   "id": "0f2e4fa7",
   "metadata": {},
   "source": [
    "## Omniglot dataset"
   ]
  },
  {
   "cell_type": "code",
   "execution_count": null,
   "id": "67ff0dcf",
   "metadata": {},
   "outputs": [],
   "source": [
    "from forget_me_not.datasets.omniglot import OmniglotDataModule\n",
    "\n",
    "\n",
    "dm = OmniglotDataModule(\n",
    "    data_dir='./dataset_store/omniglot/',\n",
    "    train_fraction=TRAIN_FRACTION, \n",
    "    eval_fraction=EVAL_FRACTION,\n",
    ")\n",
    "\n",
    "IMG_DIM = (64, 64)\n",
    "dm.setup('fit')\n",
    "dm.setup('test')"
   ]
  },
  {
   "cell_type": "markdown",
   "id": "60194af4",
   "metadata": {},
   "source": [
    "## Metrics"
   ]
  },
  {
   "cell_type": "code",
   "execution_count": null,
   "id": "796b23f3",
   "metadata": {},
   "outputs": [],
   "source": [
    "from forget_me_not import metrics \n",
    "from functools import partial\n",
    "import torch\n",
    "\n",
    "metric_and_its_params = {\n",
    "    \"negative_log_likelihood\" : { \n",
    "        'dim' : (IMG_DIM[0] * IMG_DIM[1]),\n",
    "        'num_importance_sampling' : 500\n",
    "    },\n",
    "    \"active_units\" : {},\n",
    "    \"mutual_information\" : {\n",
    "        'num_samples' : 1000\n",
    "    },\n",
    "    \"density_and_coverage\" : {\n",
    "        'nearest_k' : 5\n",
    "    }\n",
    "}\n",
    "\n",
    "def add_monitoring_metrics(model):\n",
    "    model.add_additional_monitoring_metric('validation', 'NLL', partial(metrics.compute_negative_log_likelihood_for_batch, **metric_and_its_params['negative_log_likelihood']), timeit=True)\n",
    "    model.add_additional_monitoring_metric('validation', 'AU', partial(metrics.active_units_for_batch, **metric_and_its_params['active_units']), timeit=True, agg_func=partial(torch.mean, dtype=torch.float32))"
   ]
  },
  {
   "cell_type": "markdown",
   "id": "81382e4a",
   "metadata": {},
   "source": [
    "## Training $\\beta$-VAE "
   ]
  },
  {
   "cell_type": "code",
   "execution_count": null,
   "id": "8ffa9e2e",
   "metadata": {},
   "outputs": [],
   "source": [
    "from forget_me_not.models.cnn_vae import CNNVAE, CNNEncoder, CNNDecoder\n",
    "from forget_me_not.training.train_beta_vae import BetaVAEModule, train\n",
    "\n",
    "\n",
    "vae_model = CNNVAE(\n",
    "    img_encoder = CNNEncoder(num_channels=1),\n",
    "    img_decoder = CNNDecoder(num_channels=1, dim=HIDDEN_DIM),\n",
    "    hidden_dim = HIDDEN_DIM,\n",
    "    latent_dim = LATENT_DIM,\n",
    ") \n",
    "\n",
    "model = BetaVAEModule(vae_model, loss='vanilla-beta-vae', beta=BETA, learning_rate=LEARNING_RATE)\n",
    "add_monitoring_metrics(model)\n",
    "\n",
    "val_data_loader = dm.val_dataloader(batch_size=None)\n",
    "train_data_loader = dm.train_dataloader(batch_size=BATCH_SIZE)\n",
    "\n",
    "\n",
    "train(model, train_data_loader, val_data_loader, num_epochs=MAX_NUM_EPOCHS, accelerator=ACCELERATOR, enable_progress_bar=PBAR, early_stop=True)"
   ]
  },
  {
   "cell_type": "markdown",
   "id": "eb16bf50",
   "metadata": {},
   "source": [
    "### Metrics"
   ]
  },
  {
   "cell_type": "code",
   "execution_count": null,
   "id": "0bb9aac7",
   "metadata": {},
   "outputs": [],
   "source": [
    "test_data_loader = dm.test_dataloader(batch_size=BATCH_SIZE)\n",
    "results = metrics.compute_metrics(vae_model, test_data_loader, metric_and_its_params)\n",
    "for metric, res in results.items():\n",
    "    print(f\"{metric}: {res}\")"
   ]
  },
  {
   "cell_type": "markdown",
   "id": "1ad8acce",
   "metadata": {},
   "source": [
    "### PCA on encodings of the test set"
   ]
  },
  {
   "cell_type": "code",
   "execution_count": null,
   "id": "4d685a2a",
   "metadata": {},
   "outputs": [],
   "source": [
    "from forget_me_not.plots import plot_latent_representation_2d\n",
    "test_data_loader = dm.test_dataloader(batch_size=None)\n",
    "report_dir = os.path.join(REPORT_ROOT_DIR, 'beta') if REPORT_ROOT_DIR is not None else None\n",
    "data, labels = next(iter(test_data_loader))\n",
    "plot_latent_representation_2d(vae_model, data, labels, report_dir)"
   ]
  },
  {
   "cell_type": "code",
   "execution_count": null,
   "id": "e88dd65c",
   "metadata": {},
   "outputs": [],
   "source": [
    "del vae_model"
   ]
  },
  {
   "cell_type": "markdown",
   "id": "5ec6526f",
   "metadata": {},
   "source": [
    "# Self critic VAE"
   ]
  },
  {
   "cell_type": "code",
   "execution_count": null,
   "id": "0ced13fc",
   "metadata": {},
   "outputs": [],
   "source": [
    "from forget_me_not.models.cnn_vae import CNNVAE, CNNEncoder, CNNDecoder\n",
    "from forget_me_not.training.train_beta_vae import BetaVAEModule, train\n",
    "\n",
    "\n",
    "vae_model_sc = CNNVAE(\n",
    "    img_encoder = CNNEncoder(num_channels=1),\n",
    "    img_decoder = CNNDecoder(num_channels=1, dim=HIDDEN_DIM),\n",
    "    hidden_dim = HIDDEN_DIM,\n",
    "    latent_dim = LATENT_DIM,\n",
    ") \n",
    "model_sc = BetaVAEModule(vae_model_sc, loss='self-critic', beta=LAMBDA, learning_rate=LEARNING_RATE)\n",
    "add_monitoring_metrics(model_sc)\n",
    "\n",
    "val_data_loader = dm.val_dataloader(batch_size=BATCH_SIZE)\n",
    "train_data_loader = dm.train_dataloader(batch_size=BATCH_SIZE)\n",
    "\n",
    "\n",
    "train(model_sc, train_data_loader, val_data_loader, num_epochs=MAX_NUM_EPOCHS, accelerator=ACCELERATOR, enable_progress_bar=PBAR, early_stop=True)"
   ]
  },
  {
   "cell_type": "code",
   "execution_count": null,
   "id": "c1e7dbf4",
   "metadata": {},
   "outputs": [],
   "source": [
    "test_data_loader = dm.test_dataloader(batch_size=BATCH_SIZE)\n",
    "results = metrics.compute_metrics(vae_model_sc, test_data_loader, metric_and_its_params)\n",
    "for metric, res in results.items():\n",
    "    print(f\"{metric}: {res}\")"
   ]
  },
  {
   "cell_type": "code",
   "execution_count": null,
   "id": "40c49f11",
   "metadata": {},
   "outputs": [],
   "source": [
    "from forget_me_not.plots import plot_latent_representation_2d\n",
    "test_data_loader = dm.test_dataloader(batch_size=None)\n",
    "report_dir = os.path.join(REPORT_ROOT_DIR, 'self_critic') if REPORT_ROOT_DIR is not None else None\n",
    "\n",
    "data, labels = next(iter(test_data_loader))\n",
    "plot_latent_representation_2d(vae_model_sc, data, labels, report_dir)"
   ]
  },
  {
   "cell_type": "code",
   "execution_count": null,
   "id": "ea402ce8",
   "metadata": {},
   "outputs": [],
   "source": [
    "del vae_model_sc"
   ]
  },
  {
   "cell_type": "markdown",
   "id": "d7db8fcb",
   "metadata": {},
   "source": [
    "# NN Critic"
   ]
  },
  {
   "cell_type": "code",
   "execution_count": null,
   "id": "8d6f8169",
   "metadata": {},
   "outputs": [],
   "source": [
    "CONTRAST_DIM = 256\n",
    "HIDDEN_DIM_X = 512\n",
    "HIDDEN_DIM_Z = 384"
   ]
  },
  {
   "cell_type": "code",
   "execution_count": null,
   "id": "4a57775d",
   "metadata": {},
   "outputs": [],
   "source": [
    "from forget_me_not.models.cnn_vae import CNNEncoder, CNNDecoder, CNNVAE, CriticNetworkForCNNVAE, CNNVAEWithCriticNetwork\n",
    "from forget_me_not.training.train_beta_vae import BetaVAEModule, train\n",
    "\n",
    "critic_network = CriticNetworkForCNNVAE(\n",
    "    img_encoder = CNNEncoder(num_channels=1),\n",
    "    img_enc_dim = HIDDEN_DIM, \n",
    "    latent_dim = LATENT_DIM, \n",
    "    contrast_dim = CONTRAST_DIM, \n",
    "    hidden_dim_x = HIDDEN_DIM_X,\n",
    "    hidden_dim_z = HIDDEN_DIM_Z,\n",
    "    dtype=torch.float32\n",
    ")\n",
    "\n",
    "\n",
    "\n",
    "vae_model_nnc = CNNVAEWithCriticNetwork(\n",
    "    critic_network, \n",
    "    img_encoder = CNNEncoder(num_channels=1),\n",
    "    img_decoder = CNNDecoder(num_channels=1, dim=HIDDEN_DIM),\n",
    "    hidden_dim = HIDDEN_DIM,\n",
    "    latent_dim = LATENT_DIM,\n",
    ") \n",
    "\n",
    "    \n",
    "model_nnc = BetaVAEModule(vae_model_nnc, loss='nn-critic', beta=LAMBDA, learning_rate=LEARNING_RATE)\n",
    "add_monitoring_metrics(model_nnc)\n",
    "\n",
    "val_data_loader = dm.val_dataloader(batch_size=BATCH_SIZE)\n",
    "train_data_loader = dm.train_dataloader(batch_size=BATCH_SIZE)\n",
    "\n",
    "\n",
    "train(model_nnc, train_data_loader, val_data_loader, num_epochs=MAX_NUM_EPOCHS, accelerator=ACCELERATOR, enable_progress_bar=PBAR, early_stop=True)"
   ]
  },
  {
   "cell_type": "code",
   "execution_count": null,
   "id": "89ec0713",
   "metadata": {},
   "outputs": [],
   "source": [
    "test_data_loader = dm.test_dataloader(batch_size=BATCH_SIZE)\n",
    "results = metrics.compute_metrics(vae_model_nnc, test_data_loader, metric_and_its_params)\n",
    "for metric, res in results.items():\n",
    "    print(f\"{metric}: {res}\")"
   ]
  },
  {
   "cell_type": "code",
   "execution_count": null,
   "id": "f985ba8e",
   "metadata": {},
   "outputs": [],
   "source": [
    "from forget_me_not.plots import plot_latent_representation_2d\n",
    "test_data_loader = dm.test_dataloader(batch_size=None)\n",
    "report_dir = os.path.join(REPORT_ROOT_DIR, 'nn_critic') if REPORT_ROOT_DIR is not None else None\n",
    "\n",
    "data, labels = next(iter(test_data_loader))\n",
    "plot_latent_representation_2d(vae_model_nnc, data, labels, report_dir)"
   ]
  },
  {
   "cell_type": "code",
   "execution_count": null,
   "id": "313074f6",
   "metadata": {},
   "outputs": [],
   "source": [
    "del vae_model_nnc"
   ]
  }
 ],
 "metadata": {
  "kernelspec": {
   "display_name": "Python 3 (ipykernel)",
   "language": "python",
   "name": "python3"
  },
  "language_info": {
   "codemirror_mode": {
    "name": "ipython",
    "version": 3
   },
   "file_extension": ".py",
   "mimetype": "text/x-python",
   "name": "python",
   "nbconvert_exporter": "python",
   "pygments_lexer": "ipython3",
   "version": "3.10.11"
  }
 },
 "nbformat": 4,
 "nbformat_minor": 5
}
